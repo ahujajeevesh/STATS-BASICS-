{
  "nbformat": 4,
  "nbformat_minor": 0,
  "metadata": {
    "colab": {
      "provenance": []
    },
    "kernelspec": {
      "name": "python3",
      "display_name": "Python 3"
    },
    "language_info": {
      "name": "python"
    }
  },
  "cells": [
    {
      "cell_type": "code",
      "execution_count": null,
      "metadata": {
        "id": "NBSOwXE7kepy"
      },
      "outputs": [],
      "source": []
    },
    {
      "cell_type": "markdown",
      "source": [
        "#1. What is statistics, and why is it important?\n",
        "- Statistics is the science of collecting, analyzing, and interpreting data. It's a branch of applied mathematics that helps us understand patterns and trends in data.\n",
        "- **Sampling**: Techniques include simple random, systematic, stratified, or cluster sampling\n",
        "- **Statistical models:** Use sample data to predict future numbers\n",
        "- **Control charts**: Show process changes over time\n",
        "#2. What are the two main types of statistics?\n",
        "- The two main types of statistics are descriptive statistics and inferential statistics.\n",
        "- Descriptive statistics\n",
        "  - Describe the properties of data\n",
        "  - Summarize data using indexes like the mean and median\n",
        "- Inferential statistics\n",
        "  - Use sample data to draw conclusions about population data\n",
        "  - Test hypotheses\n",
        "#3. What are descriptive statistics ?\n",
        "- Descriptive statistics summarize and describe the key characteristics of a dataset, such as its central tendency (mean, median, mode), variability (standard deviation, range), and shape.\n",
        "- Examples include measures of central tendency, such as mean, median, and mode, which provide information about the typical value in the dataset.\n",
        "#4. What is inferential statistics?\n",
        "- Inferential statistics uses data from a sample to draw conclusions or make generalizations about a larger population, employing techniques like hypothesis testing and confidence intervals.\n",
        "- This is often done by analyzing a random sampling from a much broader data set, like a larger population.\n",
        "#5. What is sampling in statistics ?\n",
        "- A sample is a subset of individuals from a larger population. Sampling means selecting the group that you will actually collect data from in your research.\n",
        "- For example, if you are researching the opinions of students in your university, you could survey a sample of 100 students.\n",
        "#6. What are the different types of sampling methods?\n",
        "- There are many types of sampling methods, including probability sampling methods and non-probability sampling methods.\n",
        "- **Simple random sampling**\n",
        "A common technique where every member of the target population has an equal chance of being selected\n",
        "- **Systematic sampling**\n",
        "A convenient method where a random start is used, and then every nth sample is selected\n",
        "-**Stratified sampling**\n",
        "The population is divided into smaller groups, and each group can have a different sampling rate\n",
        "- **Cluster sampling**\n",
        "The population is divided into groups, and then a sample is taken from each group.\n",
        "#7. What is the difference between random and non-random sampling ?\n",
        "\n",
        "- Random Sampling\n",
        "  - Based on probability/random selection\n",
        "  - Minimizes bias\n",
        "  - Stronger ability to generalize findings to the population\n",
        "- Non-Random Sampling\n",
        "  - Based on researcher's judgment, convenience, or specific criteria\n",
        "  - Potential for bias\n",
        "  - Limited ability to generalize findings\n",
        "\n",
        "#8. Define and give examples of qualitative and quantitative data?\n",
        "- Qualitative data describes qualities, characteristics, or attributes, while quantitative data focuses on numerical values or counts.\n",
        "- Examples include: qualitative - \"the car is blue\" or \"the ice cream is vanilla\", and quantitative - \"there are 5 people in the room\" or \"the height is 5 feet\".\n",
        "- Qualitative data refers to descriptive information that focuses on concepts and characteristics, rather than numbers and statistics. It's non-numerical and unstructured.\n",
        "- Quantitative data is numerical data that can be counted or measured. It's structured and uses numbers.\n",
        "#9. What are the different types of data in statistics?\n",
        "- **Qualitative/Categorical Data:**\n",
        " - Nominal:\n",
        "  Represents categories or labels without a specific order or ranking (e.g., colors, types of fruit).\n",
        "Example: Male, Female, or Red, Green, Blue\n",
        " - Ordinal:\n",
        "  Represents categories that have a meaningful order or ranking, but the intervals between them are not necessarily equal (e.g., education levels, satisfaction levels).\n",
        " - Example: Education levels: High School, Bachelor's, Master's, Ph.D\n",
        "\n",
        "-  **Quantitative/Numerical Data:**\n",
        "   - Discrete:\n",
        "  Represents counts or values that can be separated into individual, distinct units (e.g., number of students, number of cars).\n",
        "   - Example: The number of cars in a parking lot, or the number of students in a class.\n",
        "   - Continuous:\n",
        "  Represents measurements or values that can take any value within a range (e.g., height, temperature).\n",
        "   - Example: Height of a person, temperature of a room.\n",
        "#10. Explain nominal, ordinal, interval, and ratio levels of measurement.\n",
        "- Nominal:\n",
        "Definition: Data that can be categorized but not ordered or ranked.\n",
        "- Ordinal:\n",
        "Definition: Data that can be categorized and ordered/ranked, but the distance between values might not be equal.\n",
        "- Interval:\n",
        "Definition: Data that can be categorized, ordered, and the distance between values is equal and meaningful, but there is no true zero point.\n",
        "- Ratio:\n",
        "Definition: Data that can be categorized, ordered, and the distance between values is equal and meaningful, and there is a true zero point.\n",
        "#11. What is the measure of central tendency?\n",
        "- There are three main measures of central tendency:\n",
        "  - mode\n",
        "  - median\n",
        "  - mean\n",
        "- Each of these measures describes a different indication of the typical or central value in the distribution.\n",
        "- Mode:\n",
        "The mode is the most commonly occurring value in a distribution.\n",
        "- Median\n",
        "The median is the middle value in distribution when the values are arranged in ascending or descending order.\n",
        "- Mean\n",
        "The mean is the sum of the value of each observation in a dataset divided by the number of observations. This is also known as the arithmetic average.\n",
        "\n",
        "#12. Define mean, median, and mode?\n",
        "- Mean\n",
        "The mean is the sum of the value of each observation in a dataset divided by the number of observations. This is also known as the arithmetic average.\n",
        "- Median\n",
        "The median is the middle value in distribution when the values are arranged in ascending or descending order.\n",
        "- Mode:\n",
        "The mode is the most commonly occurring value in a distribution.\n",
        "#13. What is the significance of the measure of central tendency?\n",
        "- Measures of central tendency (mean, median, and mode) are crucial in statistics because they provide a single, representative value to summarize the \"center\" of a dataset, making data analysis and comparisons easier and more understandable.\n",
        "- *Summarize data* : They help to condense a large dataset into a single, easily understood value.\n",
        "- *Identify patterns* : They help reveal the central tendency or typical value within a dataset, which can be helpful for making comparisons between different datasets or identifying outliers.\n",
        "#14. What is variance, and how is it calculated?\n",
        "- Variance is a statistical measurement of how spread out data points are in a data set. It's calculated by finding the average of the squared differences between each data point and the mean.\n",
        "- Using variance in business:\n",
        "Variance can be used in business to compare forecasts to actual results. This can help businesses make better budgets and decisions.\n",
        "- Software\n",
        "You can use software like Excel to calculate variance.\n",
        "#15. What is standard deviation, and why is it important?\n",
        "- Standard deviation is a statistical measurement that shows how spread out a set of data is. It's a key tool for understanding variability and risk.\n",
        "- Quality control:\n",
        "In manufacturing, standard deviation is used to ensure that products are consistent.\n",
        "- Data analysis:\n",
        "Standard deviation helps to understand how data is distributed, and to identify outliers.\n",
        "#16. Define and explain the term range in statistics?\n",
        "- In statistics, the range is a simple measure of variability that represents the spread of a dataset, calculated by subtracting the smallest value from the largest value.\n",
        "- Calculation:\n",
        "To calculate the range, you simply need to find the highest and lowest values in the dataset and subtract the lowest from the highest: **Range = Highest Value - Lowest Value.**\n",
        "#17. What is the difference between variance and standard deviation?\n",
        "- Variance is a measure of how far numbers in a data set are spread out from the mean, while standard deviation is the square root of the variance.\n",
        "- Both measures reflect variability in a distribution, but their units differ: Standard deviation is expressed in the same units as the original values (e.g., minutes or meters).\n",
        "#18. What is skewness in a dataset?\n",
        "- Skewness in a dataset is a statistical measure that indicates the degree of asymmetry or lack of symmetry in the distribution of a data set.\n",
        "- It essentially tells you if the data points are clustered more to one side of the mean than the other.\n",
        "- *Asymmetry* :\n",
        "A normal distribution (a bell curve) is perfectly symmetrical, with the mean, median, and mode all at the center. Skewness measures the deviation from this symmetry.\n",
        "#19. What does it mean if a dataset is positively or negatively skewed?\n",
        "- A positively skewed dataset has a longer tail to the right, meaning most values cluster on the lower side, while a negatively skewed dataset has a longer tail to the left, with most values on the higher side.\n",
        "- *Skewness* :\n",
        "measures the asymmetry of a dataset's distribution. A perfectly symmetrical distribution has zero skewness.\n",
        "- *Negatively Skewed (Left-Skewed)* :\n",
        "The tail extends towards the lower values (left side) of the distribution.\n",
        "#20. Define and explain kurtosis.\n",
        "- Kurtosis is a measure of the tailedness of a distribution. Tailedness is how often outliers occur. Excess kurtosis is the tailedness of a distribution relative to a normal distribution.\n",
        "- Kurtosis is a measure of the tailedness of a distribution. Tailedness is how often outliers occur. Excess kurtosis is the tailedness of a distribution relative to a normal distribution.\n",
        "- Kurtosis is a statistical measurement that describes how data is spread out in a distribution. It's also a measure of how heavy or light the tails of a distribution are.\n",
        "#21. What is the purpose of covariance?\n",
        "- Covariance measures the direction of the relationship between two random variables, indicating whether they tend to move in the same or opposite directions.\n",
        "- It's a statistical tool that assesses joint variability, providing insights into how variables change together, but does not indicate the strength of the relationship.\n",
        "- Covariance is a statistical tool used to determine the relationship between the movements of two random variables.\n",
        "- When two stocks tend to move together, they are seen as having a positive covariance; when they move inversely, the covariance is negative.\n",
        "#22. What does correlation measure in statistics?\n",
        "- In statistics, correlation measures the strength and direction of the relationship between two or more variables. It's a common tool for describing simple relationships between data.\n",
        "- *Strength* : The correlation coefficient indicates how strong the relationship is.\n",
        "- *Direction* : The correlation coefficient indicates whether the relationship is positive or negative.\n",
        "- *Linear relationship* : Correlation measures whether the variables change together at a constant rate.\n",
        "#23. What is the difference between covariance and correlation?\n",
        "- Covariance indicates whether two variables change in the same direction, while correlation measures the strength and direction of their linear relationship, with correlation being a standardized version of covariance.\n",
        "- While covariance values can be any number in both the negative and positive directions, correlation coefficient values have a range of -1 to +1.\n",
        "#24. What are some real-world applications of statistics?\n",
        "- Statistics, the science of collecting, analyzing, and interpreting data, has numerous real-world applications across various fields, including healthcare, finance, and even everyday decision-making.\n",
        "- It helps us understand patterns, make predictions, and make informed decisions in various aspects of life.\n",
        "- *Clinical Trials* : Analyzing data from clinical trials to determine the effectiveness of new treatments and therapies.\n",
        "- *Public Health* : Monitoring disease outbreaks, analyzing healthcare data to identify risk factors, and improving patient outcomes.\n",
        "\n",
        "\n",
        "\n",
        "\n",
        "\n",
        "\n",
        "\n",
        "\n",
        "\n",
        "\n",
        "\n",
        "\n",
        "\n",
        "\n",
        "\n",
        "\n",
        "\n"
      ],
      "metadata": {
        "id": "698Vql32k7Y1"
      }
    },
    {
      "cell_type": "code",
      "source": [
        "#1. How do you calculate the mean, median, and mode of a dataset?\n",
        "import numpy as np\n",
        "age = [28, 56,56 ,76,76,76,76, 35, 28, 76, 89]\n",
        "\n",
        "print(np.mean(age))\n",
        "print(np.median(age))\n",
        "from scipy import stats\n",
        "print(stats.mode(age))"
      ],
      "metadata": {
        "colab": {
          "base_uri": "https://localhost:8080/"
        },
        "id": "bROfjhk-2nP6",
        "outputId": "3eb962fa-addc-408f-fdcf-2408573cf64f"
      },
      "execution_count": null,
      "outputs": [
        {
          "output_type": "stream",
          "name": "stdout",
          "text": [
            "61.09090909090909\n",
            "76.0\n",
            "ModeResult(mode=76, count=5)\n"
          ]
        }
      ]
    },
    {
      "cell_type": "code",
      "source": [
        "#2. Write a Python program to compute the variance and standard deviation of a dataset.\n",
        "import numpy as np\n",
        "age = [28, 56,56 ,76,76,76,76, 35, 28, 76, 89]\n",
        "print(np.var(age))\n",
        "print(np.std(age))"
      ],
      "metadata": {
        "colab": {
          "base_uri": "https://localhost:8080/"
        },
        "id": "Mhb47vnv49EW",
        "outputId": "26d22651-9e1f-4a9b-f760-b6649c1ec23a"
      },
      "execution_count": null,
      "outputs": [
        {
          "output_type": "stream",
          "name": "stdout",
          "text": [
            "437.53719008264466\n",
            "20.917389657475063\n"
          ]
        }
      ]
    },
    {
      "cell_type": "code",
      "source": [
        "#3. Create a dataset and classify it into nominal, ordinal, interval, and ratio types.\n",
        "dt=[45,56,678,78,89,98]\n",
        "import numpy as np\n",
        "import pandas as pd\n",
        "df=pd.DataFrame(dt)\n",
        "df.describe()\n",
        "\n"
      ],
      "metadata": {
        "colab": {
          "base_uri": "https://localhost:8080/",
          "height": 300
        },
        "id": "Z-b698t15Q90",
        "outputId": "97a5847a-4810-4340-8d2a-b8888a228162"
      },
      "execution_count": null,
      "outputs": [
        {
          "output_type": "execute_result",
          "data": {
            "text/plain": [
              "              0\n",
              "count    6.0000\n",
              "mean   174.0000\n",
              "std    247.7087\n",
              "min     45.0000\n",
              "25%     61.5000\n",
              "50%     83.5000\n",
              "75%     95.7500\n",
              "max    678.0000"
            ],
            "text/html": [
              "\n",
              "  <div id=\"df-369c5a99-b6fd-4b4c-896b-f4580c391495\" class=\"colab-df-container\">\n",
              "    <div>\n",
              "<style scoped>\n",
              "    .dataframe tbody tr th:only-of-type {\n",
              "        vertical-align: middle;\n",
              "    }\n",
              "\n",
              "    .dataframe tbody tr th {\n",
              "        vertical-align: top;\n",
              "    }\n",
              "\n",
              "    .dataframe thead th {\n",
              "        text-align: right;\n",
              "    }\n",
              "</style>\n",
              "<table border=\"1\" class=\"dataframe\">\n",
              "  <thead>\n",
              "    <tr style=\"text-align: right;\">\n",
              "      <th></th>\n",
              "      <th>0</th>\n",
              "    </tr>\n",
              "  </thead>\n",
              "  <tbody>\n",
              "    <tr>\n",
              "      <th>count</th>\n",
              "      <td>6.0000</td>\n",
              "    </tr>\n",
              "    <tr>\n",
              "      <th>mean</th>\n",
              "      <td>174.0000</td>\n",
              "    </tr>\n",
              "    <tr>\n",
              "      <th>std</th>\n",
              "      <td>247.7087</td>\n",
              "    </tr>\n",
              "    <tr>\n",
              "      <th>min</th>\n",
              "      <td>45.0000</td>\n",
              "    </tr>\n",
              "    <tr>\n",
              "      <th>25%</th>\n",
              "      <td>61.5000</td>\n",
              "    </tr>\n",
              "    <tr>\n",
              "      <th>50%</th>\n",
              "      <td>83.5000</td>\n",
              "    </tr>\n",
              "    <tr>\n",
              "      <th>75%</th>\n",
              "      <td>95.7500</td>\n",
              "    </tr>\n",
              "    <tr>\n",
              "      <th>max</th>\n",
              "      <td>678.0000</td>\n",
              "    </tr>\n",
              "  </tbody>\n",
              "</table>\n",
              "</div>\n",
              "    <div class=\"colab-df-buttons\">\n",
              "\n",
              "  <div class=\"colab-df-container\">\n",
              "    <button class=\"colab-df-convert\" onclick=\"convertToInteractive('df-369c5a99-b6fd-4b4c-896b-f4580c391495')\"\n",
              "            title=\"Convert this dataframe to an interactive table.\"\n",
              "            style=\"display:none;\">\n",
              "\n",
              "  <svg xmlns=\"http://www.w3.org/2000/svg\" height=\"24px\" viewBox=\"0 -960 960 960\">\n",
              "    <path d=\"M120-120v-720h720v720H120Zm60-500h600v-160H180v160Zm220 220h160v-160H400v160Zm0 220h160v-160H400v160ZM180-400h160v-160H180v160Zm440 0h160v-160H620v160ZM180-180h160v-160H180v160Zm440 0h160v-160H620v160Z\"/>\n",
              "  </svg>\n",
              "    </button>\n",
              "\n",
              "  <style>\n",
              "    .colab-df-container {\n",
              "      display:flex;\n",
              "      gap: 12px;\n",
              "    }\n",
              "\n",
              "    .colab-df-convert {\n",
              "      background-color: #E8F0FE;\n",
              "      border: none;\n",
              "      border-radius: 50%;\n",
              "      cursor: pointer;\n",
              "      display: none;\n",
              "      fill: #1967D2;\n",
              "      height: 32px;\n",
              "      padding: 0 0 0 0;\n",
              "      width: 32px;\n",
              "    }\n",
              "\n",
              "    .colab-df-convert:hover {\n",
              "      background-color: #E2EBFA;\n",
              "      box-shadow: 0px 1px 2px rgba(60, 64, 67, 0.3), 0px 1px 3px 1px rgba(60, 64, 67, 0.15);\n",
              "      fill: #174EA6;\n",
              "    }\n",
              "\n",
              "    .colab-df-buttons div {\n",
              "      margin-bottom: 4px;\n",
              "    }\n",
              "\n",
              "    [theme=dark] .colab-df-convert {\n",
              "      background-color: #3B4455;\n",
              "      fill: #D2E3FC;\n",
              "    }\n",
              "\n",
              "    [theme=dark] .colab-df-convert:hover {\n",
              "      background-color: #434B5C;\n",
              "      box-shadow: 0px 1px 3px 1px rgba(0, 0, 0, 0.15);\n",
              "      filter: drop-shadow(0px 1px 2px rgba(0, 0, 0, 0.3));\n",
              "      fill: #FFFFFF;\n",
              "    }\n",
              "  </style>\n",
              "\n",
              "    <script>\n",
              "      const buttonEl =\n",
              "        document.querySelector('#df-369c5a99-b6fd-4b4c-896b-f4580c391495 button.colab-df-convert');\n",
              "      buttonEl.style.display =\n",
              "        google.colab.kernel.accessAllowed ? 'block' : 'none';\n",
              "\n",
              "      async function convertToInteractive(key) {\n",
              "        const element = document.querySelector('#df-369c5a99-b6fd-4b4c-896b-f4580c391495');\n",
              "        const dataTable =\n",
              "          await google.colab.kernel.invokeFunction('convertToInteractive',\n",
              "                                                    [key], {});\n",
              "        if (!dataTable) return;\n",
              "\n",
              "        const docLinkHtml = 'Like what you see? Visit the ' +\n",
              "          '<a target=\"_blank\" href=https://colab.research.google.com/notebooks/data_table.ipynb>data table notebook</a>'\n",
              "          + ' to learn more about interactive tables.';\n",
              "        element.innerHTML = '';\n",
              "        dataTable['output_type'] = 'display_data';\n",
              "        await google.colab.output.renderOutput(dataTable, element);\n",
              "        const docLink = document.createElement('div');\n",
              "        docLink.innerHTML = docLinkHtml;\n",
              "        element.appendChild(docLink);\n",
              "      }\n",
              "    </script>\n",
              "  </div>\n",
              "\n",
              "\n",
              "<div id=\"df-a01a4210-f106-45d8-bf59-d49a639eb24c\">\n",
              "  <button class=\"colab-df-quickchart\" onclick=\"quickchart('df-a01a4210-f106-45d8-bf59-d49a639eb24c')\"\n",
              "            title=\"Suggest charts\"\n",
              "            style=\"display:none;\">\n",
              "\n",
              "<svg xmlns=\"http://www.w3.org/2000/svg\" height=\"24px\"viewBox=\"0 0 24 24\"\n",
              "     width=\"24px\">\n",
              "    <g>\n",
              "        <path d=\"M19 3H5c-1.1 0-2 .9-2 2v14c0 1.1.9 2 2 2h14c1.1 0 2-.9 2-2V5c0-1.1-.9-2-2-2zM9 17H7v-7h2v7zm4 0h-2V7h2v10zm4 0h-2v-4h2v4z\"/>\n",
              "    </g>\n",
              "</svg>\n",
              "  </button>\n",
              "\n",
              "<style>\n",
              "  .colab-df-quickchart {\n",
              "      --bg-color: #E8F0FE;\n",
              "      --fill-color: #1967D2;\n",
              "      --hover-bg-color: #E2EBFA;\n",
              "      --hover-fill-color: #174EA6;\n",
              "      --disabled-fill-color: #AAA;\n",
              "      --disabled-bg-color: #DDD;\n",
              "  }\n",
              "\n",
              "  [theme=dark] .colab-df-quickchart {\n",
              "      --bg-color: #3B4455;\n",
              "      --fill-color: #D2E3FC;\n",
              "      --hover-bg-color: #434B5C;\n",
              "      --hover-fill-color: #FFFFFF;\n",
              "      --disabled-bg-color: #3B4455;\n",
              "      --disabled-fill-color: #666;\n",
              "  }\n",
              "\n",
              "  .colab-df-quickchart {\n",
              "    background-color: var(--bg-color);\n",
              "    border: none;\n",
              "    border-radius: 50%;\n",
              "    cursor: pointer;\n",
              "    display: none;\n",
              "    fill: var(--fill-color);\n",
              "    height: 32px;\n",
              "    padding: 0;\n",
              "    width: 32px;\n",
              "  }\n",
              "\n",
              "  .colab-df-quickchart:hover {\n",
              "    background-color: var(--hover-bg-color);\n",
              "    box-shadow: 0 1px 2px rgba(60, 64, 67, 0.3), 0 1px 3px 1px rgba(60, 64, 67, 0.15);\n",
              "    fill: var(--button-hover-fill-color);\n",
              "  }\n",
              "\n",
              "  .colab-df-quickchart-complete:disabled,\n",
              "  .colab-df-quickchart-complete:disabled:hover {\n",
              "    background-color: var(--disabled-bg-color);\n",
              "    fill: var(--disabled-fill-color);\n",
              "    box-shadow: none;\n",
              "  }\n",
              "\n",
              "  .colab-df-spinner {\n",
              "    border: 2px solid var(--fill-color);\n",
              "    border-color: transparent;\n",
              "    border-bottom-color: var(--fill-color);\n",
              "    animation:\n",
              "      spin 1s steps(1) infinite;\n",
              "  }\n",
              "\n",
              "  @keyframes spin {\n",
              "    0% {\n",
              "      border-color: transparent;\n",
              "      border-bottom-color: var(--fill-color);\n",
              "      border-left-color: var(--fill-color);\n",
              "    }\n",
              "    20% {\n",
              "      border-color: transparent;\n",
              "      border-left-color: var(--fill-color);\n",
              "      border-top-color: var(--fill-color);\n",
              "    }\n",
              "    30% {\n",
              "      border-color: transparent;\n",
              "      border-left-color: var(--fill-color);\n",
              "      border-top-color: var(--fill-color);\n",
              "      border-right-color: var(--fill-color);\n",
              "    }\n",
              "    40% {\n",
              "      border-color: transparent;\n",
              "      border-right-color: var(--fill-color);\n",
              "      border-top-color: var(--fill-color);\n",
              "    }\n",
              "    60% {\n",
              "      border-color: transparent;\n",
              "      border-right-color: var(--fill-color);\n",
              "    }\n",
              "    80% {\n",
              "      border-color: transparent;\n",
              "      border-right-color: var(--fill-color);\n",
              "      border-bottom-color: var(--fill-color);\n",
              "    }\n",
              "    90% {\n",
              "      border-color: transparent;\n",
              "      border-bottom-color: var(--fill-color);\n",
              "    }\n",
              "  }\n",
              "</style>\n",
              "\n",
              "  <script>\n",
              "    async function quickchart(key) {\n",
              "      const quickchartButtonEl =\n",
              "        document.querySelector('#' + key + ' button');\n",
              "      quickchartButtonEl.disabled = true;  // To prevent multiple clicks.\n",
              "      quickchartButtonEl.classList.add('colab-df-spinner');\n",
              "      try {\n",
              "        const charts = await google.colab.kernel.invokeFunction(\n",
              "            'suggestCharts', [key], {});\n",
              "      } catch (error) {\n",
              "        console.error('Error during call to suggestCharts:', error);\n",
              "      }\n",
              "      quickchartButtonEl.classList.remove('colab-df-spinner');\n",
              "      quickchartButtonEl.classList.add('colab-df-quickchart-complete');\n",
              "    }\n",
              "    (() => {\n",
              "      let quickchartButtonEl =\n",
              "        document.querySelector('#df-a01a4210-f106-45d8-bf59-d49a639eb24c button');\n",
              "      quickchartButtonEl.style.display =\n",
              "        google.colab.kernel.accessAllowed ? 'block' : 'none';\n",
              "    })();\n",
              "  </script>\n",
              "</div>\n",
              "\n",
              "    </div>\n",
              "  </div>\n"
            ],
            "application/vnd.google.colaboratory.intrinsic+json": {
              "type": "dataframe",
              "summary": "{\n  \"name\": \"df\",\n  \"rows\": 8,\n  \"fields\": [\n    {\n      \"column\": 0,\n      \"properties\": {\n        \"dtype\": \"number\",\n        \"std\": 217.54588951476498,\n        \"min\": 6.0,\n        \"max\": 678.0,\n        \"num_unique_values\": 8,\n        \"samples\": [\n          174.0,\n          83.5,\n          6.0\n        ],\n        \"semantic_type\": \"\",\n        \"description\": \"\"\n      }\n    }\n  ]\n}"
            }
          },
          "metadata": {},
          "execution_count": 16
        }
      ]
    },
    {
      "cell_type": "code",
      "source": [
        "#4. Implement sampling techniques like random sampling and stratified sampling.\n",
        "import random\n",
        "def simple_random_sampling(population, sample_size):\n",
        "   if sample_size > len(population):\n",
        "        raise ValueError(\"Sample size cannot exceed population size.\")\n",
        "   return random.sample(population, sample_size)\n",
        "population = list(range(1, 101))  # Population of numbers 1 to 100\n",
        "sample_size = 20\n",
        "sample = simple_random_sampling(population, sample_size)\n",
        "print(f\"Simple Random Sample: {sample}\")\n",
        "\n",
        "\n",
        "#STRATIFIED SAMPLING\n",
        "def stratified_sampling(population, strata, sample_size_per_stratum):\n",
        "    sample = {}\n",
        "    for stratum_name, stratum_members in strata.items():\n",
        "        if stratum_name not in sample_size_per_stratum:\n",
        "            raise ValueError(f\"Sample size for stratum '{stratum_name}' not specified.\")\n",
        "        sample_size = sample_size_per_stratum[stratum_name]\n",
        "        if sample_size > len(stratum_members):\n",
        "            raise ValueError(f\"Sample size for stratum '{stratum_name}' exceeds stratum size.\")\n",
        "        sample[stratum_name] = random.sample(stratum_members, sample_size)\n",
        "    return sample\n",
        "population = list(range(1, 101))\n",
        "strata = {\n",
        "    \"Group A\": [x for x in population if x <= 50],\n",
        "    \"Group B\": [x for x in population if x > 50]\n",
        "}\n",
        "sample_size_per_stratum = {\n",
        "    \"Group A\": 10,\n",
        "    \"Group B\": 10\n",
        "}\n",
        "sample = stratified_sampling(population, strata, sample_size_per_stratum)\n",
        "print(f\"Stratified Sample: {sample}\")"
      ],
      "metadata": {
        "colab": {
          "base_uri": "https://localhost:8080/"
        },
        "id": "YNgW65sJ7Tt2",
        "outputId": "855c1acc-d47e-4ee1-ac8c-0f081c388576"
      },
      "execution_count": null,
      "outputs": [
        {
          "output_type": "stream",
          "name": "stdout",
          "text": [
            "Simple Random Sample: [70, 67, 97, 3, 98, 59, 19, 93, 48, 80, 13, 78, 8, 14, 9, 72, 87, 64, 2, 55]\n",
            "Stratified Sample: {'Group A': [30, 39, 47, 11, 38, 44, 35, 34, 7, 22], 'Group B': [71, 56, 92, 70, 61, 82, 99, 57, 97, 60]}\n"
          ]
        }
      ]
    },
    {
      "cell_type": "code",
      "source": [
        "#5. Write a Python function to calculate the range of a dataset.\n",
        "import numpy as np\n",
        "age = [28, 56,56 ,76,76,76,76, 35, 28, 76, 89]\n",
        "print(np.max(age)-np.min(age))\n"
      ],
      "metadata": {
        "colab": {
          "base_uri": "https://localhost:8080/"
        },
        "id": "Ca2rxHKpgwE0",
        "outputId": "4cdd894b-a32e-49e2-9acb-6376673629f8"
      },
      "execution_count": null,
      "outputs": [
        {
          "output_type": "stream",
          "name": "stdout",
          "text": [
            "61\n"
          ]
        }
      ]
    },
    {
      "cell_type": "markdown",
      "source": [],
      "metadata": {
        "id": "slarwf5Dk6c6"
      }
    },
    {
      "cell_type": "code",
      "source": [
        "#6.  Create a dataset and plot its histogram to visualize skewness.\n",
        "import matplotlib.pyplot as plt\n",
        "import numpy as np\n",
        "\n",
        "data = np.random.randn(1000)\n",
        "plt.hist(data, bins=30, color='skyblue', edgecolor='black')\n",
        "plt.xlabel('Values')\n",
        "plt.ylabel('Frequency')\n",
        "plt.title('Basic Histogram')\n",
        "plt.show()\n",
        "\n"
      ],
      "metadata": {
        "colab": {
          "base_uri": "https://localhost:8080/",
          "height": 472
        },
        "id": "gSb8Do15i009",
        "outputId": "7499ca15-c122-4ef7-ac77-804c68e7536d"
      },
      "execution_count": null,
      "outputs": [
        {
          "output_type": "display_data",
          "data": {
            "text/plain": [
              "<Figure size 640x480 with 1 Axes>"
            ],
            "image/png": "[encoded data removed]"
          },
          "metadata": {}
        }
      ]
    },
    {
      "cell_type": "code",
      "source": [
        "#7. Calculate skewness and kurtosis of a dataset using Python libraries.\n",
        "import numpy as np\n",
        "from scipy.stats import kurtosis, skew\n",
        "data = np.random.randn(1000)\n",
        "skewness = skew(data)\n",
        "kurtosis_value = kurtosis(data)\n",
        "print(f\"Skewness: {skewness}\")\n",
        "print(f\"Kurtosis: {kurtosis_value}\")\n"
      ],
      "metadata": {
        "colab": {
          "base_uri": "https://localhost:8080/"
        },
        "id": "GNlvocS_jlp9",
        "outputId": "ed269e0d-f8fc-4688-ed10-8910926db30b"
      },
      "execution_count": null,
      "outputs": [
        {
          "output_type": "stream",
          "name": "stdout",
          "text": [
            "Skewness: 0.07885532507496203\n",
            "Kurtosis: 0.07680285409541421\n"
          ]
        }
      ]
    },
    {
      "cell_type": "code",
      "source": [
        "#8. Generate a dataset and demonstrate positive and negative skewness.\n",
        "\n",
        "data=np.random.seed(1000)\n",
        "data_positive = np.random.exponential(scale=1, size=1000)\n",
        "data_negative= - data_positive\n",
        "data_no_skew= np.random.normal(loc=0,scale= 1,size=1000)\n",
        "datasets= {\"POSITIVE SKEW\":data_positive,\"NEGATIVE SKEW\":data_negative,\"NORMAL\":data_no_skew}\n",
        "for label, data in datasets.items():\n",
        "   var=np.var(data)\n",
        "   std=np.std(data)\n",
        "   skewness=skew(data)\n",
        "   print(f\"{label}:var={var},std={std},skewness={skewness}\")\n"
      ],
      "metadata": {
        "colab": {
          "base_uri": "https://localhost:8080/"
        },
        "id": "Qdgx4YE8kte5",
        "outputId": "97ab31ae-2f1c-41a6-afbe-46cfabafed4f"
      },
      "execution_count": null,
      "outputs": [
        {
          "output_type": "stream",
          "name": "stdout",
          "text": [
            "POSITIVE SKEW:var=1.1273860402499558,std=1.061784366173262,skewness=2.1608477402662243\n",
            "NEGATIVE SKEW:var=1.1273860402499558,std=1.061784366173262,skewness=-2.1608477402662243\n",
            "NORMAL:var=1.0491252986932937,std=1.0242681771358972,skewness=-0.21348716245783425\n"
          ]
        }
      ]
    },
    {
      "cell_type": "code",
      "source": [
        "#9. Write a Python script to calculate covariance between two datasets.\n",
        "import numpy as np\n",
        "x = np.array([1, 2, 3, 4, 5])\n",
        "y = np.array([5, 4, 3, 2, 1])\n",
        "print(np.cov(x,y))\n"
      ],
      "metadata": {
        "colab": {
          "base_uri": "https://localhost:8080/"
        },
        "id": "VrrhnMRFrKKl",
        "outputId": "0ef3da63-a331-4046-d3c9-54158cb76681"
      },
      "execution_count": null,
      "outputs": [
        {
          "output_type": "stream",
          "name": "stdout",
          "text": [
            "[[ 2.5 -2.5]\n",
            " [-2.5  2.5]]\n"
          ]
        }
      ]
    },
    {
      "cell_type": "markdown",
      "source": [],
      "metadata": {
        "id": "9pwtdHtqrIwO"
      }
    },
    {
      "cell_type": "code",
      "source": [
        "#10. Write a Python script to calculate the correlation coefficient between two datasets.\n",
        "import numpy as np\n",
        "x = np.array([1, 2, 3, 4, 5])\n",
        "y = np.array([5, 4, 3, 2, 1])\n",
        "print(np.corrcoef(x,y))\n",
        "plt.scatter(x,y)\n",
        "plt.show()\n"
      ],
      "metadata": {
        "colab": {
          "base_uri": "https://localhost:8080/",
          "height": 465
        },
        "id": "r5SHblY-rKs_",
        "outputId": "bbaf32dc-5a6f-4608-ba9e-9c46869618b0"
      },
      "execution_count": null,
      "outputs": [
        {
          "output_type": "stream",
          "name": "stdout",
          "text": [
            "[[ 1. -1.]\n",
            " [-1.  1.]]\n"
          ]
        },
        {
          "output_type": "display_data",
          "data": {
            "text/plain": [
              "<Figure size 640x480 with 1 Axes>"
            ],
            "image/png": "[encoded data removed]"
          },
          "metadata": {}
        }
      ]
    },
    {
      "cell_type": "code",
      "source": [
        "#11. Create a scatter plot to visualize the relationship between two variables.\n",
        "import matplotlib.pyplot as plt\n",
        "import numpy as np\n",
        "x = np.array([1, 2, 3, 4, 5])\n",
        "y = np.array([5, 4, 8,9, 1])\n",
        "plt.scatter(x,y)\n"
      ],
      "metadata": {
        "id": "hGbaGfUKj4QN",
        "colab": {
          "base_uri": "https://localhost:8080/",
          "height": 447
        },
        "outputId": "f1df27c4-4e90-4612-bd5d-b5a12fec6301"
      },
      "execution_count": null,
      "outputs": [
        {
          "output_type": "execute_result",
          "data": {
            "text/plain": [
              "<matplotlib.collections.PathCollection at 0x7822ab752590>"
            ]
          },
          "metadata": {},
          "execution_count": 27
        },
        {
          "output_type": "display_data",
          "data": {
            "text/plain": [
              "<Figure size 640x480 with 1 Axes>"
            ],
            "image/png": "[encoded data removed]"
          },
          "metadata": {}
        }
      ]
    },
    {
      "cell_type": "code",
      "source": [
        "#12. Implement and compare simple random sampling and systematic sampling.\n",
        "import numpy as np\n",
        "import pandas as pd\n",
        "import matplotlib.pyplot as plt\n",
        "\n",
        "data_size = 100\n",
        "np.random.seed(42)\n",
        "data = pd.DataFrame({\n",
        "    'ID': range(1, data_size + 1),\n",
        "    'Value': np.random.randint(1, 100, data_size)\n",
        "})\n",
        "def simple_random_sampling(data, sample_size):\n",
        "    return data.sample(n=sample_size, random_state=42)\n",
        "def systematic_sampling(data, sample_size):\n",
        "    interval = len(data) // sample_size\n",
        "    indices = list(range(0, len(data), interval))[:sample_size]\n",
        "    return data.iloc[indices]\n",
        "sample_size = 20\n",
        "srs_sample = simple_random_sampling(data, sample_size)\n",
        "sys_sample = systematic_sampling(data, sample_size)\n",
        "print(srs_sample)\n",
        "print(sys_sample)\n"
      ],
      "metadata": {
        "colab": {
          "base_uri": "https://localhost:8080/"
        },
        "id": "So--mfU6w3iQ",
        "outputId": "c0c3cf0e-48c4-4e8a-874c-aeb9232ed03c"
      },
      "execution_count": null,
      "outputs": [
        {
          "output_type": "stream",
          "name": "stdout",
          "text": [
            "    ID  Value\n",
            "83  84     62\n",
            "53  54     14\n",
            "70  71      4\n",
            "45  46      7\n",
            "44  45     51\n",
            "39  40     62\n",
            "22  23     21\n",
            "80  81     44\n",
            "10  11     88\n",
            "0    1     52\n",
            "18  19     38\n",
            "30  31     59\n",
            "73  74     54\n",
            "33  34     60\n",
            "90  91     87\n",
            "4    5     61\n",
            "76  77     93\n",
            "77  78     63\n",
            "12  13      3\n",
            "31  32     42\n",
            "    ID  Value\n",
            "0    1     52\n",
            "5    6     21\n",
            "10  11     88\n",
            "15  16      2\n",
            "20  21     64\n",
            "25  26     58\n",
            "30  31     59\n",
            "35  36     15\n",
            "40  41     51\n",
            "45  46      7\n",
            "50  51      4\n",
            "55  56     90\n",
            "60  61     60\n",
            "65  66     35\n",
            "70  71      4\n",
            "75  76     54\n",
            "80  81     44\n",
            "85  86     95\n",
            "90  91     87\n",
            "95  96     82\n"
          ]
        }
      ]
    },
    {
      "cell_type": "code",
      "source": [
        "#13. Calculate the mean, median, and mode of grouped data.\n",
        "import numpy as np\n",
        "from scipy import stats\n",
        "data= np.arange(0,10)\n",
        "print(data)\n",
        "print(np.mean(data))\n",
        "print(np.median(data))\n",
        "print(stats.mode(data))"
      ],
      "metadata": {
        "colab": {
          "base_uri": "https://localhost:8080/"
        },
        "id": "X4GVFaFD07Xr",
        "outputId": "ada06be6-7cf3-4c11-cc63-88ee3a327407"
      },
      "execution_count": null,
      "outputs": [
        {
          "output_type": "stream",
          "name": "stdout",
          "text": [
            "[0 1 2 3 4 5 6 7 8 9]\n",
            "4.5\n",
            "4.5\n",
            "ModeResult(mode=0, count=1)\n"
          ]
        }
      ]
    },
    {
      "cell_type": "code",
      "source": [
        "#14. Simulate data using Python and calculate its central tendency and dispersion.\n",
        "data= np.random.randint(0,100,100)\n",
        "print(np.mean(data))\n",
        "print(np.median(data))\n",
        "print(stats.mode(data))\n",
        "\n",
        "import numpy as np\n",
        "\n",
        "list = [212, 231, 234, 564, 235]\n",
        "\n",
        "print(\"VARIANCE \",np.var(list))\n"
      ],
      "metadata": {
        "id": "Jp72DG8x0waD",
        "colab": {
          "base_uri": "https://localhost:8080/"
        },
        "outputId": "9847d4ab-bdda-450b-fc5f-0a38e5535db5"
      },
      "execution_count": null,
      "outputs": [
        {
          "output_type": "stream",
          "name": "stdout",
          "text": [
            "50.06\n",
            "47.0\n",
            "ModeResult(mode=3, count=3)\n",
            "VARIANCE  18133.359999999997\n"
          ]
        }
      ]
    },
    {
      "cell_type": "code",
      "source": [
        "#15. Use NumPy or pandas to summarize a dataset’s descriptive statistics.\n",
        "import numpy as np\n",
        "import pandas as pd\n",
        "data = {'A': [1, 2, 3, 4, 5],\n",
        "        'B': [10, 20, 15, 25, 30]}\n",
        "df=pd.DataFrame(data)\n",
        "stat=df.describe()\n",
        "print(stat)"
      ],
      "metadata": {
        "colab": {
          "base_uri": "https://localhost:8080/"
        },
        "id": "vF1RPJdoEcMD",
        "outputId": "49db233b-0227-4f23-ba8f-135161d4e19b"
      },
      "execution_count": null,
      "outputs": [
        {
          "output_type": "stream",
          "name": "stdout",
          "text": [
            "              A          B\n",
            "count  5.000000   5.000000\n",
            "mean   3.000000  20.000000\n",
            "std    1.581139   7.905694\n",
            "min    1.000000  10.000000\n",
            "25%    2.000000  15.000000\n",
            "50%    3.000000  20.000000\n",
            "75%    4.000000  25.000000\n",
            "max    5.000000  30.000000\n"
          ]
        }
      ]
    },
    {
      "cell_type": "code",
      "source": [
        "#16. Plot a boxplot to understand the spread and identify outliers.\n",
        "import numpy as np\n",
        "import seaborn as sns\n",
        "import matplotlib.pyplot as plt\n",
        "\n",
        "np.random.seed(42)\n",
        "data = np.random.normal(loc=50, scale=15, size=100)\n",
        "data = np.append(data, [10, 100])\n",
        "\n",
        "plt.figure(figsize=(6, 4))\n",
        "sns.boxplot(y=data, color='lightgreen')\n",
        "plt.title('Boxplot of Data')\n",
        "plt.ylabel('Values')\n",
        "plt.grid(True)\n",
        "\n",
        "plt.show()\n",
        "\n"
      ],
      "metadata": {
        "colab": {
          "base_uri": "https://localhost:8080/",
          "height": 372
        },
        "id": "LR3G_W8xFSLT",
        "outputId": "7e0ecf14-cee8-41e0-9b71-ab066720bed4"
      },
      "execution_count": null,
      "outputs": [
        {
          "output_type": "display_data",
          "data": {
            "text/plain": [
              "<Figure size 600x400 with 1 Axes>"
            ],
            "image/png": "[encoded data removed]"
          },
          "metadata": {}
        }
      ]
    },
    {
      "cell_type": "code",
      "source": [
        "#17. Calculate the interquartile range (IQR) of a dataset.\n",
        "import numpy as np\n",
        "data = [10, 15, 21, 22, 23, 24, 29, 34, 45, 47, 52, 55, 60, 65, 70]\n",
        "\n",
        "Q1 = np.percentile(data, 25)\n",
        "Q3 = np.percentile(data, 75)\n",
        "\n",
        "IQR = Q3 - Q1\n",
        "\n",
        "print(f\"Q1: {Q1}\")\n",
        "print(f\"Q3: {Q3}\")\n",
        "print(f\"IQR: {IQR}\")\n",
        "\n"
      ],
      "metadata": {
        "colab": {
          "base_uri": "https://localhost:8080/"
        },
        "id": "zOtthzSxHLnZ",
        "outputId": "a4f93011-a880-4ca1-80bb-f71a181dedf7"
      },
      "execution_count": null,
      "outputs": [
        {
          "output_type": "stream",
          "name": "stdout",
          "text": [
            "Q1: 22.5\n",
            "Q3: 53.5\n",
            "IQR: 31.0\n"
          ]
        }
      ]
    },
    {
      "cell_type": "code",
      "source": [
        "#18. Implement Z-score normalization and explain its significance.\n",
        "import numpy as np\n",
        "\n",
        "data = [10, 15, 21, 22, 23, 24, 29, 34, 45, 47, 52, 55, 60, 65, 70]\n",
        "\n",
        "mean = np.mean(data)\n",
        "std_dev = np.std(data)\n",
        "\n",
        "z_scores = [(x - mean) / std_dev for x in data]\n",
        "\n",
        "print(\"Original Data:\", data)\n",
        "print(\"Z-score Normalized Data:\", z_scores)\n"
      ],
      "metadata": {
        "colab": {
          "base_uri": "https://localhost:8080/"
        },
        "id": "utDKZO9vHv3H",
        "outputId": "7dae9bda-20d5-49a4-b816-ab39d2cf9f63"
      },
      "execution_count": null,
      "outputs": [
        {
          "output_type": "stream",
          "name": "stdout",
          "text": [
            "Original Data: [10, 15, 21, 22, 23, 24, 29, 34, 45, 47, 52, 55, 60, 65, 70]\n",
            "Z-score Normalized Data: [-1.50698909059069, -1.2391592759122498, -0.9177634982981216, -0.8641975353624336, -0.8106315724267456, -0.7570656094910575, -0.48923579481261736, -0.22140598013417717, 0.3678196121583912, 0.47495153802976725, 0.7427813527082074, 0.9034792415152715, 1.1713090561937116, 1.4391388708721518, 1.7069686855505921]\n"
          ]
        }
      ]
    },
    {
      "cell_type": "code",
      "source": [
        "#19. Compare two datasets using their standard deviations.\n",
        "import numpy as np\n",
        "\n",
        "dataset1 = [10, 15, 21, 22, 23, 24, 29, 34, 45, 47, 52, 55, 60, 65, 70]\n",
        "dataset2 = [5, 8, 12, 14, 18, 20, 21, 25, 30, 32, 33, 35, 40, 42, 50]\n",
        "\n",
        "std_dev1 = np.std(dataset1, ddof=1)\n",
        "std_dev2 = np.std(dataset2, ddof=1)\n",
        "\n",
        "print(f\"Standard Deviation of Dataset 1: {std_dev1:.2f}\")\n",
        "print(f\"Standard Deviation of Dataset 2: {std_dev2:.2f}\")\n",
        "\n",
        "if std_dev1 > std_dev2:\n",
        "    print(\"Dataset 1 has more variability.\")\n",
        "elif std_dev1 < std_dev2:\n",
        "    print(\"Dataset 2 has more variability.\")\n",
        "else:\n",
        "    print(\"Both datasets have the same variability.\")\n",
        "\n"
      ],
      "metadata": {
        "colab": {
          "base_uri": "https://localhost:8080/"
        },
        "id": "Hi84QBR7IV0m",
        "outputId": "d1c17142-ee7d-48fb-ec7f-44ec0cfba735"
      },
      "execution_count": null,
      "outputs": [
        {
          "output_type": "stream",
          "name": "stdout",
          "text": [
            "Standard Deviation of Dataset 1: 19.32\n",
            "Standard Deviation of Dataset 2: 13.20\n",
            "Dataset 1 has more variability.\n"
          ]
        }
      ]
    },
    {
      "cell_type": "code",
      "source": [
        "#20. Write a Python program to visualize covariance using a heatmap.\n",
        "import numpy as np\n",
        "import seaborn as sns\n",
        "import matplotlib.pyplot as plt\n",
        "import pandas as pd\n",
        "data = {\n",
        "    \"Height\": [150, 160, 165, 170, 175, 180, 185, 190, 195, 200],\n",
        "    \"Weight\": [50, 55, 60, 65, 70, 75, 80, 85, 90, 95],\n",
        "    \"Age\": [22, 25, 30, 28, 35, 40, 38, 45, 50, 55]\n",
        "}\n",
        "\n",
        "df = pd.DataFrame(data)\n",
        "\n",
        "cov_matrix = df.cov()\n",
        "plt.figure(figsize=(6, 4))\n",
        "sns.heatmap(cov_matrix, annot=True, cmap=\"coolwarm\", fmt=\".2f\", linewidths=0.5)\n",
        "plt.title(\"Covariance Heatmap\")\n",
        "plt.show()\n",
        "\n"
      ],
      "metadata": {
        "colab": {
          "base_uri": "https://localhost:8080/",
          "height": 391
        },
        "id": "jwBEHLpdJQIK",
        "outputId": "506c4f56-97dd-4b7e-ca3d-cbebc9758a0c"
      },
      "execution_count": null,
      "outputs": [
        {
          "output_type": "display_data",
          "data": {
            "text/plain": [
              "<Figure size 600x400 with 2 Axes>"
            ],
            "image/png": "[encoded data removed]"
          },
          "metadata": {}
        }
      ]
    },
    {
      "cell_type": "code",
      "source": [
        "#21. Use seaborn to create a correlation matrix for a dataset.\n",
        "import numpy as np\n",
        "import seaborn as sns\n",
        "import matplotlib.pyplot as plt\n",
        "import pandas as pd\n",
        "\n",
        "data = {\n",
        "    \"Height\": [150, 160, 165, 170, 175, 180, 185, 190, 195, 200],\n",
        "    \"Weight\": [50, 55, 60, 65, 70, 75, 80, 85, 90, 95],\n",
        "    \"Age\": [22, 25, 30, 28, 35, 40, 38, 45, 50, 55],\n",
        "    \"Income\": [3000, 3500, 4000, 4200, 5000, 5500, 6000, 7000, 7500, 8000]\n",
        "}\n",
        "\n",
        "df = pd.DataFrame(data)\n",
        "\n",
        "corr_matrix = df.corr()\n",
        "\n",
        "plt.figure(figsize=(6, 4))\n",
        "sns.heatmap(corr_matrix, annot=True, cmap=\"coolwarm\", fmt=\".2f\", linewidths=0.5)\n",
        "plt.title(\"Correlation Matrix Heatmap\")\n",
        "plt.show()\n",
        "\n"
      ],
      "metadata": {
        "colab": {
          "base_uri": "https://localhost:8080/",
          "height": 391
        },
        "id": "LcV8lhkUKZO7",
        "outputId": "4709c390-7e30-43ee-e439-bc8e9d760e54"
      },
      "execution_count": null,
      "outputs": [
        {
          "output_type": "display_data",
          "data": {
            "text/plain": [
              "<Figure size 600x400 with 2 Axes>"
            ],
            "image/png": "[encoded data removed]"
          },
          "metadata": {}
        }
      ]
    },
    {
      "cell_type": "code",
      "source": [
        "#22. Generate a dataset and implement both variance and standard deviation computations.\n",
        "import numpy as np\n",
        "\n",
        "np.random.seed(42)\n",
        "data = np.random.randint(1, 101, 20)\n",
        "\n",
        "variance = np.var(data, ddof=1)\n",
        "std_dev = np.sqrt(variance)\n",
        "\n",
        "print(\"Generated Dataset:\", data)\n",
        "print(f\"Variance: {variance:.2f}\")\n",
        "print(f\"Standard Deviation: {std_dev:.2f}\")\n",
        "\n"
      ],
      "metadata": {
        "colab": {
          "base_uri": "https://localhost:8080/"
        },
        "id": "5Dv2_qY4LOG6",
        "outputId": "2f26dc55-8b77-4914-8fa5-9c7823397080"
      },
      "execution_count": null,
      "outputs": [
        {
          "output_type": "stream",
          "name": "stdout",
          "text": [
            "Generated Dataset: [ 52  93  15  72  61  21  83  87  75  75  88 100  24   3  22  53   2  88\n",
            "  30  38]\n",
            "Variance: 1042.62\n",
            "Standard Deviation: 32.29\n"
          ]
        }
      ]
    },
    {
      "cell_type": "code",
      "source": [
        "#23. Visualize skewness and kurtosis using Python libraries like matplotlib or seaborn.\n",
        "import numpy as np\n",
        "import seaborn as sns\n",
        "import matplotlib.pyplot as plt\n",
        "import scipy.stats as stats\n",
        "\n",
        "np.random.seed(42)\n",
        "data = np.random.lognormal(mean=0, sigma=1, size=1000)\n",
        "\n",
        "skewness = stats.skew(data)\n",
        "kurtosis = stats.kurtosis(data, fisher=True)\n",
        "\n",
        "plt.figure(figsize=(8, 5))\n",
        "sns.histplot(data, kde=True, bins=30, color=\"skyblue\")\n",
        "plt.axvline(np.mean(data), color='red', linestyle='dashed', linewidth=2, label=\"Mean\")\n",
        "plt.title(f\"Skewness: {skewness:.2f}, Kurtosis: {kurtosis:.2f}\")\n",
        "plt.legend()\n",
        "plt.show()\n",
        "\n"
      ],
      "metadata": {
        "colab": {
          "base_uri": "https://localhost:8080/",
          "height": 468
        },
        "id": "y9jyI2WxLyYz",
        "outputId": "c9e736b4-add4-4145-b0bd-d3df75318120"
      },
      "execution_count": null,
      "outputs": [
        {
          "output_type": "display_data",
          "data": {
            "text/plain": [
              "<Figure size 800x500 with 1 Axes>"
            ],
            "image/png": "[encoded data removed]"
          },
          "metadata": {}
        }
      ]
    },
    {
      "cell_type": "code",
      "source": [
        "#24. Implement the Pearson and Spearman correlation coefficients for a dataset.\n",
        "import numpy as np\n",
        "from scipy.stats import spearmanr\n",
        "\n",
        "def pearson_correlation(x, y):\n",
        "    x = np.array(x)\n",
        "    y = np.array(y)\n",
        "    return np.corrcoef(x, y)[0, 1]\n",
        "\n",
        "def spearman_correlation(x, y):\n",
        "    return spearmanr(x, y).correlation\n",
        "\n",
        "x = [10, 20, 30, 40, 50]\n",
        "y = [5, 15, 25, 35, 45]\n",
        "\n",
        "pearson_corr = pearson_correlation(x, y)\n",
        "spearman_corr = spearman_correlation(x, y)\n",
        "\n",
        "print(f\"Pearson Correlation: {pearson_corr}\")\n",
        "print(f\"Spearman Correlation: {spearman_corr}\")\n",
        "\n"
      ],
      "metadata": {
        "colab": {
          "base_uri": "https://localhost:8080/"
        },
        "id": "PAPOz9ahc8RU",
        "outputId": "4bca3cd4-aa0e-425e-9a21-7eee8bc8e351"
      },
      "execution_count": 2,
      "outputs": [
        {
          "output_type": "stream",
          "name": "stdout",
          "text": [
            "Pearson Correlation: 1.0\n",
            "Spearman Correlation: 0.9999999999999999\n"
          ]
        }
      ]
    }
  ]
}